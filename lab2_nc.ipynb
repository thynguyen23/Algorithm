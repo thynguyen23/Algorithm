{
 "cells": [
  {
   "cell_type": "code",
   "execution_count": 54,
   "metadata": {},
   "outputs": [],
   "source": [
    "import numpy as np "
   ]
  },
  {
   "cell_type": "code",
   "execution_count": 55,
   "metadata": {},
   "outputs": [],
   "source": [
    "soHang=int(input(\"Nhập số hàng:\"))\n",
    "soCot=int(input(\"Nhập số cột:\"))\n",
    "arr=np.zeros((soHang,soCot))"
   ]
  },
  {
   "cell_type": "code",
   "execution_count": 56,
   "metadata": {},
   "outputs": [
    {
     "data": {
      "text/plain": [
       "array([[4., 2.],\n",
       "       [5., 2.]])"
      ]
     },
     "execution_count": 56,
     "metadata": {},
     "output_type": "execute_result"
    }
   ],
   "source": [
    "for i in range(soHang):\n",
    "    for j in range(soCot):\n",
    "        arr[i,j]=int(input(f\"Nhập giá trị hang {i} cot {j}\"))\n",
    "arr"
   ]
  },
  {
   "cell_type": "code",
   "execution_count": 6,
   "metadata": {},
   "outputs": [
    {
     "name": "stdout",
     "output_type": "stream",
     "text": [
      "Thu tu hang thu 1, cot thu 2\n",
      "Thu tu hang thu 2, cot thu 1\n"
     ]
    }
   ],
   "source": [
    "\n",
    "#tim kiem phan tu x co trong ma tran\n",
    "x = int(input(\"Nhap vao so muon tim: \"))\n",
    "for i in range(soHang):\n",
    "    for j in range(soCot):\n",
    "        if arr[i,j]== x:\n",
    "            print(f\"Thu tu hang thu {i+1}, cot thu {j+1}\")"
   ]
  },
  {
   "cell_type": "code",
   "execution_count": 14,
   "metadata": {},
   "outputs": [
    {
     "name": "stdout",
     "output_type": "stream",
     "text": [
      "2.0\n",
      "6.0\n",
      "3.0\n"
     ]
    }
   ],
   "source": [
    "#Neu ma tran vuong thi tra ve duong cheo \n",
    "if soCot==soHang:\n",
    "    for i in range(soHang):\n",
    "        for j in range(soCot):\n",
    "            if i == j:\n",
    "                print(arr[i,j])"
   ]
  },
  {
   "cell_type": "code",
   "execution_count": 57,
   "metadata": {},
   "outputs": [],
   "source": [
    "list =[]\n",
    "for i in range(soHang):\n",
    "    for j in range(soCot):\n",
    "        list.append(arr[i,j])\n",
    "        "
   ]
  },
  {
   "cell_type": "code",
   "execution_count": 58,
   "metadata": {},
   "outputs": [
    {
     "name": "stdout",
     "output_type": "stream",
     "text": [
      "Phan tu 2.0 xuat hien 2 lan.\n"
     ]
    }
   ],
   "source": [
    "dem_dict = {}\n",
    "for x in list:\n",
    "    if x in dem_dict:\n",
    "        dem_dict[x] += 1\n",
    "        # print(dem_dict[x])\n",
    "    else:\n",
    "        dem_dict[x] = 1\n",
    "\n",
    "for key, value in dem_dict.items():\n",
    "    if value>1:\n",
    "        print(f\"Phan tu {key} xuat hien {value} lan.\")\n"
   ]
  },
  {
   "cell_type": "code",
   "execution_count": 10,
   "metadata": {},
   "outputs": [],
   "source": [
    "mang = [3,5,2,1,7,0,10]\n",
    "\n"
   ]
  },
  {
   "cell_type": "code",
   "execution_count": 50,
   "metadata": {},
   "outputs": [
    {
     "name": "stdout",
     "output_type": "stream",
     "text": [
      "[3, 5, 2, 1, 7, 0, 10]\n"
     ]
    }
   ],
   "source": [
    "# bubble sort\n",
    "mang = [3,5,2,1,7,0,10]\n",
    "def bubble_sort(arr):\n",
    "    n = len(mang)\n",
    "    doi = False\n",
    "    for i in range(n-1):\n",
    "        for j in range(0,n-i-1):\n",
    "            if mang[j]> mang[j+1]:\n",
    "                doi = True\n",
    "                mang[j],mang[j+1]= mang[j+1],mang[j]   \n",
    "        if not doi:\n",
    "            break         \n",
    "print(mang)"
   ]
  },
  {
   "cell_type": "code",
   "execution_count": 24,
   "metadata": {},
   "outputs": [
    {
     "name": "stdout",
     "output_type": "stream",
     "text": [
      "[1, 2, 3, 5]\n"
     ]
    }
   ],
   "source": [
    "# selection sort\n",
    "mang = [3,1,5,2]\n",
    "for i in range(len(mang)):\n",
    "    min = i\n",
    "    for j in range(i+1,len(mang)):\n",
    "        if mang[min]>mang[j]:\n",
    "            min = j \n",
    "    mang[min],mang[i] = mang[i],mang[min]\n",
    "print(mang)"
   ]
  },
  {
   "cell_type": "code",
   "execution_count": 35,
   "metadata": {},
   "outputs": [
    {
     "name": "stdout",
     "output_type": "stream",
     "text": [
      "54321\n"
     ]
    }
   ],
   "source": [
    "# nghich dao so nguyen\n",
    "x = 12345\n",
    "so_moi = 0\n",
    "while x>0:\n",
    "    du = x%10\n",
    "    so_moi = so_moi*10 + du\n",
    "    x = x//10\n",
    "print(so_moi)                     "
   ]
  },
  {
   "cell_type": "code",
   "execution_count": 1,
   "metadata": {},
   "outputs": [
    {
     "name": "stdout",
     "output_type": "stream",
     "text": [
      "23425200\n"
     ]
    }
   ],
   "source": [
    "# move zeros to right side. You cannot convert to string type.\n",
    "# Example: input 23420520 and excepted output is 23425200\n",
    "n = 23420520\n",
    "so_moi = 0\n",
    "count_0 = 0\n",
    "count_du = 0\n",
    "while n>0:\n",
    "    du = n % 10\n",
    "    if du == 0:\n",
    "        count_0 += 1\n",
    "    else:       \n",
    "        so_moi = du * 10**count_du + so_moi\n",
    "        count_du += 1\n",
    "    n = n - du\n",
    "    n = n//10\n",
    "so_moi = so_moi * 10**count_0\n",
    "print(so_moi)"
   ]
  }
 ],
 "metadata": {
  "kernelspec": {
   "display_name": "Python 3",
   "language": "python",
   "name": "python3"
  },
  "language_info": {
   "codemirror_mode": {
    "name": "ipython",
    "version": 3
   },
   "file_extension": ".py",
   "mimetype": "text/x-python",
   "name": "python",
   "nbconvert_exporter": "python",
   "pygments_lexer": "ipython3",
   "version": "3.7.0"
  }
 },
 "nbformat": 4,
 "nbformat_minor": 2
}
